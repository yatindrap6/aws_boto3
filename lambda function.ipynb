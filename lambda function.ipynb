{
 "cells": [
  {
   "cell_type": "code",
   "execution_count": 1,
   "id": "e89beb56-8349-4d54-8ad0-444b2cce6ba5",
   "metadata": {},
   "outputs": [],
   "source": [
    "import boto3"
   ]
  },
  {
   "cell_type": "code",
   "execution_count": 2,
   "id": "c56204ca-1499-4936-871e-77cf75c32661",
   "metadata": {},
   "outputs": [],
   "source": [
    "# Create Lambda client\n",
    "lambda_client = boto3.client('lambda')"
   ]
  },
  {
   "cell_type": "code",
   "execution_count": 3,
   "id": "53e3e0a7-16d4-4956-a5bf-7101474cb23f",
   "metadata": {},
   "outputs": [],
   "source": [
    "# Define the handler in the deployment package\n",
    "lambda_code = \"\"\"\n",
    "def lambda_handler(event, context):\n",
    "    return {\n",
    "        'statusCode': 200,\n",
    "        'body': 'Hello from Lambda!'\n",
    "    }\n",
    "\"\"\""
   ]
  },
  {
   "cell_type": "code",
   "execution_count": 4,
   "id": "f3406e89-528b-410e-85f7-3757cb7710d9",
   "metadata": {},
   "outputs": [],
   "source": [
    "# Create ZIP (in-memory)\n",
    "import zipfile, io\n",
    "zip_buffer = io.BytesIO()\n",
    "with zipfile.ZipFile(zip_buffer, 'a') as zip_file:\n",
    "    zip_file.writestr('lambda_function.py', lambda_code)\n"
   ]
  },
  {
   "cell_type": "code",
   "execution_count": 5,
   "id": "1af963ba-de07-4d7b-b673-2b65078673da",
   "metadata": {},
   "outputs": [
    {
     "name": "stdout",
     "output_type": "stream",
     "text": [
      "Lambda created! ARN: arn:aws:lambda:ap-south-1:651706783900:function:MyLambda\n"
     ]
    }
   ],
   "source": [
    "\n",
    "# Deploy Lambda\n",
    "response = lambda_client.create_function(\n",
    "    FunctionName='MyLambda',\n",
    "    Runtime='python3.10',\n",
    "    Role='arn:aws:iam::651706783900:role/Awslambda_Role',  # Replace with your role\n",
    "    Handler='lambda_function.lambda_handler',  # Entry point\n",
    "    Code={'ZipFile': zip_buffer.getvalue()},\n",
    "    Timeout=30,\n",
    "    MemorySize=128\n",
    ")\n",
    "\n",
    "print(\"Lambda created! ARN:\", response['FunctionArn'])"
   ]
  },
  {
   "cell_type": "code",
   "execution_count": null,
   "id": "1ab1835b-3e2b-4081-af3a-f97f616ecc4f",
   "metadata": {},
   "outputs": [],
   "source": []
  }
 ],
 "metadata": {
  "kernelspec": {
   "display_name": "Python 3 (ipykernel)",
   "language": "python",
   "name": "python3"
  },
  "language_info": {
   "codemirror_mode": {
    "name": "ipython",
    "version": 3
   },
   "file_extension": ".py",
   "mimetype": "text/x-python",
   "name": "python",
   "nbconvert_exporter": "python",
   "pygments_lexer": "ipython3",
   "version": "3.12.7"
  }
 },
 "nbformat": 4,
 "nbformat_minor": 5
}
